{
  "nbformat": 4,
  "nbformat_minor": 0,
  "metadata": {
    "colab": {
      "name": "Simulations_Using_MC",
      "provenance": [],
      "collapsed_sections": [],
      "toc_visible": true,
      "include_colab_link": true
    },
    "kernelspec": {
      "display_name": "Python 3",
      "name": "python3"
    }
  },
  "cells": [
    {
      "cell_type": "markdown",
      "metadata": {
        "id": "view-in-github",
        "colab_type": "text"
      },
      "source": [
        "<a href=\"https://colab.research.google.com/github/codingCapricorn/MCMC-Algorithm-Implementation/blob/master/Simulations_Using_MC.ipynb\" target=\"_parent\"><img src=\"https://colab.research.google.com/assets/colab-badge.svg\" alt=\"Open In Colab\"/></a>"
      ]
    },
    {
      "cell_type": "markdown",
      "metadata": {
        "id": "TvU7s9mTeMTn",
        "colab_type": "text"
      },
      "source": [
        "#Take A View At Different Numerical Simulations Approaches:::\n",
        "    1.Black Scholes\n",
        "  \n",
        "    2.Binary Tree\n",
        "  \n",
        "    3.Monte Carlo\n",
        "\n",
        "The differences in the three approaches (Trees, Black Scholes and Monte Carlo Simulation) arise on account of the resources required to run the model and the time required to build the model. The Black Scholes model is a simple closed form equation. If you have all the relevant inputs you have an answer. The only issue is that closed form solutions only exist for a limited universe of instruments. Trees require limited resources but get complex very quickly for more complex structures. A Monte Carlo as we have seen only takes a trivial effort to setup but running 100,000 simulation on a large portfolio of exotic contracts may take more time and more hardware than you may have access to."
      ]
    },
    {
      "cell_type": "markdown",
      "metadata": {
        "id": "5ef7kxEueEtr",
        "colab_type": "text"
      },
      "source": [
        "#Binary Tree Simulation :::::\n",
        "\n",
        "For the below developed binomial tree model for a STOCK PRICE, we assume that at each time step, the stock could be in either up or down states with unequal payoffs characteristic of a risky security. Assuming the initial stock price at time $t=0$ is \\$1, at the next time step $t=1$ the price is $u$ in the up state and $d$ in the down state with up-state transition probability $p$.\n",
        "\n",
        "##Binomial trees have two serious drawbacks::\n",
        "(1)It is discrete and therefore assumes all events to take place at these discrete nodes and certainly adding more and more branches and nodes will increase the accuracy of the estimation and in the limiting case this tree will approximate a closed form solution.\n",
        "\n",
        "(2)The second major drawback of trees is that they (at least the simple ones) cannot accommodate varying volatility between the nodes;which will cause the tree to bend and distort its shape.\n",
        "\n"
      ]
    },
    {
      "cell_type": "code",
      "metadata": {
        "id": "JpmeSSkVbOm1",
        "colab_type": "code",
        "colab": {
          "base_uri": "https://localhost:8080/",
          "height": 71
        },
        "outputId": "2789e794-ce04-4b3f-f079-32e41f006ce2"
      },
      "source": [
        "%matplotlib inline\n",
        "import numpy as np\n",
        "\n",
        "import seaborn as sns\n",
        "import matplotlib.pyplot as plt"
      ],
      "execution_count": null,
      "outputs": [
        {
          "output_type": "stream",
          "text": [
            "/usr/local/lib/python3.6/dist-packages/statsmodels/tools/_testing.py:19: FutureWarning: pandas.util.testing is deprecated. Use the functions in the public API at pandas.testing instead.\n",
            "  import pandas.util.testing as tm\n"
          ],
          "name": "stderr"
        }
      ]
    },
    {
      "cell_type": "code",
      "metadata": {
        "id": "L_KIPk5McXaB",
        "colab_type": "code",
        "colab": {}
      },
      "source": [
        "#model parameters\n",
        "mu = 0.1      #mean\n",
        "sigma = 0.15  #volatility\n",
        "S0 = 1        #starting price\n",
        "    \n",
        "N = 10000     #number of simulations\n",
        "T = [21.0/252, 1.0]  #time horizon in years\n",
        "step = 1.0/252       #time step in years"
      ],
      "execution_count": null,
      "outputs": []
    },
    {
      "cell_type": "code",
      "metadata": {
        "id": "2gRopMpAca2o",
        "colab_type": "code",
        "colab": {}
      },
      "source": [
        "#compute state price and probability\n",
        "u = np.exp(sigma * np.sqrt(step))    #up state price\n",
        "d = 1.0/u                            #down state price\n",
        "p = 0.5+0.5*(mu/sigma)*np.sqrt(step) #prob of up state"
      ],
      "execution_count": null,
      "outputs": []
    },
    {
      "cell_type": "markdown",
      "metadata": {
        "id": "AyDN5T1OhI-r",
        "colab_type": "text"
      },
      "source": [
        "#Binary Tree with Monte Carlo Simulation ::::\n",
        "We can use Monte Carlo simulations to generate uncertainty estimates of the terminal stock price after some time horizon $T$. When using a binomial model to describe the price process of the stock, we can use the following callibration:\n",
        "\n",
        "\n",
        "\n",
        "$$\\begin{eqnarray}\n",
        "u = \\exp \\bigg(\\sigma \\sqrt{T/n}\\bigg) = 1/d \\\\\n",
        "p = \\frac{1}{2} + \\frac{1}{2}\\bigg(\\frac{\\mu}{\\sigma}\\bigg)\\sqrt{T/n}\n",
        "\\end{eqnarray}$$\n",
        "\n",
        "\n",
        "where $T$ is the length of prediction horizon in years and $n$ is the number of time steps. We assume $1$ year equals $252$ trading days, $1$ month equals $21$ days, $1$ week equals $5$ days and $1$ day equals $8$ hours. Let's simulate the stock price using the binomial model with a daily time step for two different time horizons: $1$ month from today and $1$ year from today.\n",
        "\n",
        "\n"
      ]
    },
    {
      "cell_type": "code",
      "metadata": {
        "id": "O62Co7FoceJ3",
        "colab_type": "code",
        "colab": {}
      },
      "source": [
        "#binomial tree simulation\n",
        "up_times = np.zeros((N, len(T)))\n",
        "down_times = np.zeros((N, len(T)))\n",
        "for idx in range(len(T)):\n",
        "    up_times[:,idx] = np.random.binomial(T[idx]/step, p, N)\n",
        "    down_times[:,idx] = T[idx]/step - up_times[:,idx]"
      ],
      "execution_count": null,
      "outputs": []
    },
    {
      "cell_type": "code",
      "metadata": {
        "id": "DWgz_IbnchJl",
        "colab_type": "code",
        "colab": {}
      },
      "source": [
        "#compute terminal price\n",
        "ST = S0 * u**up_times * d**down_times"
      ],
      "execution_count": null,
      "outputs": []
    },
    {
      "cell_type": "code",
      "metadata": {
        "id": "5LowOakwckrK",
        "colab_type": "code",
        "colab": {
          "base_uri": "https://localhost:8080/",
          "height": 295
        },
        "outputId": "556272ed-6beb-4f71-d539-6bd7fc9e9de5"
      },
      "source": [
        "#generate plots\n",
        "plt.figure()\n",
        "plt.plot(ST[:,0], color='b', alpha=0.5, label='1 month horizon')\n",
        "plt.plot(ST[:,1], color='r', alpha=0.5, label='1 year horizon')\n",
        "plt.xlabel('time step, day')\n",
        "plt.ylabel('price')\n",
        "plt.title('Binomial-Tree Stock Simulation')\n",
        "plt.legend()\n",
        "plt.show()"
      ],
      "execution_count": null,
      "outputs": [
        {
          "output_type": "display_data",
          "data": {
            "image/png": "[encoded data removed]",
            "text/plain": [
              "<Figure size 432x288 with 1 Axes>"
            ]
          },
          "metadata": {
            "tags": [],
            "needs_background": "light"
          }
        }
      ]
    },
    {
      "cell_type": "markdown",
      "metadata": {
        "id": "xcUlPjSAk4Cq",
        "colab_type": "text"
      },
      "source": [
        "#MC Simulation has these two advantages over other simulations ::::\n",
        "\n",
        "(1)No matter what the assets and the nature of their interaction you can completely strip of the mathematical construct of these assets and simply assuming a random normal path (geometric Brownian motion) simulate the forward movement of the assets\n",
        "\n",
        "(2)Secondly, using a series of IF....THEN....ELSEIF....THEN statements we can simulate the payoff at termination."
      ]
    },
    {
      "cell_type": "code",
      "metadata": {
        "id": "r2zTYkfMdwyp",
        "colab_type": "code",
        "colab": {
          "base_uri": "https://localhost:8080/",
          "height": 295
        },
        "outputId": "632aa3ea-4c83-4a05-ea86-40c5bfdd1311"
      },
      "source": [
        "plt.figure()\n",
        "plt.hist(ST[:,0], color='b', alpha=0.5, label='1 month horizon')\n",
        "plt.hist(ST[:,1], color='r', alpha=0.5, label='1 year horizon')\n",
        "plt.xlabel('price')\n",
        "plt.ylabel('count')\n",
        "plt.title('Binomial-Tree Stock Simulation')\n",
        "plt.legend()\n",
        "plt.show()"
      ],
      "execution_count": null,
      "outputs": [
        {
          "output_type": "display_data",
          "data": {
            "image/png": "[encoded data removed]",
            "text/plain": [
              "<Figure size 432x288 with 1 Axes>"
            ]
          },
          "metadata": {
            "tags": [],
            "needs_background": "light"
          }
        }
      ]
    },
    {
      "cell_type": "markdown",
      "metadata": {
        "id": "v1DlEjcOd_MJ",
        "colab_type": "text"
      },
      "source": [
        "We can see from the above plots that our yearly estimates have higher volatility compared to the monthly estimates."
      ]
    }
  ]
}