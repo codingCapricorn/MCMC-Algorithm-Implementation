{
  "nbformat": 4,
  "nbformat_minor": 0,
  "metadata": {
    "colab": {
      "name": "Random_Walk_MC.ipynb",
      "provenance": [],
      "collapsed_sections": [],
      "authorship_tag": "ABX9TyNlI3WAnXCz56SHxPd9a0aT",
      "include_colab_link": true
    },
    "kernelspec": {
      "name": "python3",
      "display_name": "Python 3"
    }
  },
  "cells": [
    {
      "cell_type": "markdown",
      "metadata": {
        "id": "view-in-github",
        "colab_type": "text"
      },
      "source": [
        "<a href=\"https://colab.research.google.com/github/codingCapricorn/MCMC-Algorithm-Implementation/blob/master/Random_Walk_MC.ipynb\" target=\"_parent\"><img src=\"https://colab.research.google.com/assets/colab-badge.svg\" alt=\"Open In Colab\"/></a>"
      ]
    },
    {
      "cell_type": "markdown",
      "metadata": {
        "id": "QadzUxCk7uCC",
        "colab_type": "text"
      },
      "source": [
        "#Random Walk Monte Carlo ::::\n",
        "\n",
        "Consider a random walk on 2D lattice. It forms a Markov chain $\\{X_i\\}_{i=1}^{n}$ on $\\mathbb{Z} \\times \\mathbb{Z}$ with $X_0=0$ and transition probabilities given by\n",
        "\n",
        "\n",
        "\n",
        "$P(X_i = (k,l) | X_{i-1} = (i,j)) = \n",
        "\\begin{cases} \n",
        "1/4, if |k-i| + |l-j| = 1\\\\\n",
        "0, \\mathrm{otherwise}\n",
        "\\end{cases}$\n",
        "\n",
        "\n",
        "\n",
        "We assume a uniform transition probability propotional to one over the number of unoccupied neighbors of a given node. Self-avoiding random walks are simply random walks that do not cross themselves. We can use monte carlo to simulate a self-avoiding random walk."
      ]
    },
    {
      "cell_type": "code",
      "metadata": {
        "id": "PGNQlmeK1wJh",
        "colab_type": "code",
        "colab": {}
      },
      "source": [
        "%matplotlib inline \n",
        "import numpy as np\n",
        "import seaborn as sns\n",
        "import matplotlib.pyplot as plt"
      ],
      "execution_count": null,
      "outputs": []
    },
    {
      "cell_type": "markdown",
      "metadata": {
        "id": "O8JelKP45ZpD",
        "colab_type": "text"
      },
      "source": [
        "#1.With small difference number of steps and iterations -->>"
      ]
    },
    {
      "cell_type": "code",
      "metadata": {
        "id": "GOnP7uFB402r",
        "colab_type": "code",
        "colab": {
          "base_uri": "https://localhost:8080/",
          "height": 595
        },
        "outputId": "f15bd9f5-4612-466a-a5f8-8cd1ed7d4756"
      },
      "source": [
        "num_step = 64 #number of steps in a random walk\n",
        "num_iter = 16  #number of iterations for averaging results\n",
        "moves = np.array([[0, 1],[0, -1],[-1, 0],[1, 0]]) #2-D moves\n",
        "    \n",
        "#random walk stats\n",
        "square_dist = np.zeros(num_iter)\n",
        "weights = np.zeros(num_iter)\n",
        "        \n",
        "for it in range(num_iter):\n",
        "        \n",
        "    trial = 0\n",
        "    i = 1\n",
        "        \n",
        "    #iterate until we have a non-crossing random walk\n",
        "    while i != num_step-1:\n",
        "            \n",
        "        #init\n",
        "        X, Y = 0, 0\n",
        "        weight = 1\n",
        "        lattice = np.zeros((2*num_step+1, 2*num_step+1))\n",
        "        lattice[num_step+1,num_step+1] = 1\n",
        "        path = np.array([0, 0])\n",
        "        xx = num_step + 1 + X\n",
        "        yy = num_step + 1 + Y\n",
        "            \n",
        "        print(\"iter: %d, trial %d\" %(it, trial))\n",
        "            \n",
        "        for i in range(num_step):\n",
        "                \n",
        "            up    = lattice[xx,yy+1]\n",
        "            down  = lattice[xx,yy-1]\n",
        "            left  = lattice[xx-1,yy]\n",
        "            right = lattice[xx+1,yy]\n",
        "                \n",
        "            #compute available directions\n",
        "            neighbors = np.array([1, 1, 1, 1]) - np.array([up, down, left, right])\n",
        "                \n",
        "            #avoid self-loops\n",
        "            if (np.sum(neighbors) == 0):\n",
        "                i = 1\n",
        "                break\n",
        "            #end if\n",
        "                \n",
        "            #compute importance weights: d0 x d1 x ... x d_{n-1}\n",
        "            weight = weight * np.sum(neighbors)\n",
        "                \n",
        "            #sample a move direction\n",
        "            direction = np.where(np.random.rand() < np.cumsum(neighbors/float(sum(neighbors))))\n",
        "                \n",
        "            X = X + moves[direction[0][0],0]\n",
        "            Y = Y + moves[direction[0][0],1]\n",
        "                \n",
        "            #store sampled path\n",
        "            path_new = np.array([X,Y])\n",
        "            path = np.vstack((path,path_new))\n",
        "                \n",
        "            #update grid coordinates\n",
        "            xx = num_step + 1 + X\n",
        "            yy = num_step + 1 + Y                  \n",
        "            lattice[xx,yy] = 1                                                                                                                                            \n",
        "        #end for\n",
        "            \n",
        "        trial = trial + 1\n",
        "    #end while                                \n",
        "        \n",
        "    #compute square extension\n",
        "    square_dist[it] = X**2 + Y**2\n",
        "        \n",
        "    #store importance weights\n",
        "    weights[it] = weight                                                        \n",
        "#end for"
      ],
      "execution_count": null,
      "outputs": [
        {
          "output_type": "stream",
          "text": [
            "iter: 0, trial 0\n",
            "iter: 1, trial 0\n",
            "iter: 1, trial 1\n",
            "iter: 2, trial 0\n",
            "iter: 2, trial 1\n",
            "iter: 2, trial 2\n",
            "iter: 3, trial 0\n",
            "iter: 3, trial 1\n",
            "iter: 4, trial 0\n",
            "iter: 5, trial 0\n",
            "iter: 5, trial 1\n",
            "iter: 5, trial 2\n",
            "iter: 6, trial 0\n",
            "iter: 6, trial 1\n",
            "iter: 6, trial 2\n",
            "iter: 6, trial 3\n",
            "iter: 7, trial 0\n",
            "iter: 7, trial 1\n",
            "iter: 8, trial 0\n",
            "iter: 9, trial 0\n",
            "iter: 9, trial 1\n",
            "iter: 9, trial 2\n",
            "iter: 10, trial 0\n",
            "iter: 10, trial 1\n",
            "iter: 10, trial 2\n",
            "iter: 10, trial 3\n",
            "iter: 11, trial 0\n",
            "iter: 12, trial 0\n",
            "iter: 13, trial 0\n",
            "iter: 14, trial 0\n",
            "iter: 14, trial 1\n",
            "iter: 14, trial 2\n",
            "iter: 15, trial 0\n",
            "iter: 15, trial 1\n"
          ],
          "name": "stdout"
        }
      ]
    },
    {
      "cell_type": "code",
      "metadata": {
        "id": "DmVFvZ1F4-m4",
        "colab_type": "code",
        "colab": {
          "base_uri": "https://localhost:8080/",
          "height": 34
        },
        "outputId": "aa4658ca-7c72-4006-e5bc-865ffebe3f29"
      },
      "source": [
        "#compute mean square extension\n",
        "mean_square_dist = np.mean(weights * square_dist)/np.mean(weights)\n",
        "print(\"mean square dist: \", mean_square_dist)"
      ],
      "execution_count": null,
      "outputs": [
        {
          "output_type": "stream",
          "text": [
            "mean square dist:  162.53621626921597\n"
          ],
          "name": "stdout"
        }
      ]
    },
    {
      "cell_type": "code",
      "metadata": {
        "id": "nS7DgbXt5E-c",
        "colab_type": "code",
        "colab": {
          "base_uri": "https://localhost:8080/",
          "height": 295
        },
        "outputId": "25ad3916-ccbe-4733-85eb-07d4a45336bd"
      },
      "source": [
        "#generate plots\n",
        "plt.figure()\n",
        "for i in range(num_step-1):\n",
        "    plt.plot(path[i,0], path[i,1], path[i+1,0], path[i+1,1], 'ob')            \n",
        "plt.title('random walk with no overlaps')\n",
        "plt.xlabel('X')\n",
        "plt.ylabel('Y')\n",
        "plt.show()"
      ],
      "execution_count": null,
      "outputs": [
        {
          "output_type": "display_data",
          "data": {
            "image/png": "[encoded data removed]",
            "text/plain": [
              "<Figure size 432x288 with 1 Axes>"
            ]
          },
          "metadata": {
            "tags": [],
            "needs_background": "light"
          }
        }
      ]
    },
    {
      "cell_type": "code",
      "metadata": {
        "id": "rjFBQHBo5KXw",
        "colab_type": "code",
        "colab": {
          "base_uri": "https://localhost:8080/",
          "height": 295
        },
        "outputId": "51a78578-1a8e-40dd-d73a-6c4a2ec2fa2e"
      },
      "source": [
        "plt.figure()\n",
        "sns.distplot(square_dist)\n",
        "plt.xlim(0,np.max(square_dist))\n",
        "plt.title('square distance of the random walk')\n",
        "plt.xlabel('square distance (X^2 + Y^2)')\n",
        "plt.show()"
      ],
      "execution_count": null,
      "outputs": [
        {
          "output_type": "display_data",
          "data": {
            "image/png": "[encoded data removed]",
            "text/plain": [
              "<Figure size 432x288 with 1 Axes>"
            ]
          },
          "metadata": {
            "tags": [],
            "needs_background": "light"
          }
        }
      ]
    },
    {
      "cell_type": "markdown",
      "metadata": {
        "id": "BO_4T7In5Mt4",
        "colab_type": "text"
      },
      "source": [
        "#2.With large difference number of steps and iterations -->>"
      ]
    },
    {
      "cell_type": "code",
      "metadata": {
        "id": "QvZO61-S18hd",
        "colab_type": "code",
        "colab": {
          "base_uri": "https://localhost:8080/",
          "height": 1000
        },
        "outputId": "e05544bd-7399-4dac-88e6-3968b68f37c6"
      },
      "source": [
        "num_step = 164 #number of steps in a random walk\n",
        "num_iter = 16  #number of iterations for averaging results\n",
        "moves = np.array([[0, 1],[0, -1],[-1, 0],[1, 0]]) #2-D moves\n",
        "    \n",
        "#random walk stats\n",
        "square_dist = np.zeros(num_iter)\n",
        "weights = np.zeros(num_iter)\n",
        "        \n",
        "for it in range(num_iter):\n",
        "        \n",
        "    trial = 0\n",
        "    i = 1\n",
        "        \n",
        "    #iterate until we have a non-crossing random walk\n",
        "    while i != num_step-1:\n",
        "            \n",
        "        #init\n",
        "        X, Y = 0, 0\n",
        "        weight = 1\n",
        "        lattice = np.zeros((2*num_step+1, 2*num_step+1))\n",
        "        lattice[num_step+1,num_step+1] = 1\n",
        "        path = np.array([0, 0])\n",
        "        xx = num_step + 1 + X\n",
        "        yy = num_step + 1 + Y\n",
        "            \n",
        "        print(\"iter: %d, trial %d\" %(it, trial))\n",
        "            \n",
        "        for i in range(num_step):\n",
        "                \n",
        "            up    = lattice[xx,yy+1]\n",
        "            down  = lattice[xx,yy-1]\n",
        "            left  = lattice[xx-1,yy]\n",
        "            right = lattice[xx+1,yy]\n",
        "                \n",
        "            #compute available directions\n",
        "            neighbors = np.array([1, 1, 1, 1]) - np.array([up, down, left, right])\n",
        "                \n",
        "            #avoid self-loops\n",
        "            if (np.sum(neighbors) == 0):\n",
        "                i = 1\n",
        "                break\n",
        "            #end if\n",
        "                \n",
        "            #compute importance weights: d0 x d1 x ... x d_{n-1}\n",
        "            weight = weight * np.sum(neighbors)\n",
        "                \n",
        "            #sample a move direction\n",
        "            direction = np.where(np.random.rand() < np.cumsum(neighbors/float(sum(neighbors))))\n",
        "                \n",
        "            X = X + moves[direction[0][0],0]\n",
        "            Y = Y + moves[direction[0][0],1]\n",
        "                \n",
        "            #store sampled path\n",
        "            path_new = np.array([X,Y])\n",
        "            path = np.vstack((path,path_new))\n",
        "                \n",
        "            #update grid coordinates\n",
        "            xx = num_step + 1 + X\n",
        "            yy = num_step + 1 + Y                  \n",
        "            lattice[xx,yy] = 1                                                                                                                                            \n",
        "        #end for\n",
        "            \n",
        "        trial = trial + 1\n",
        "    #end while                                \n",
        "        \n",
        "    #compute square extension\n",
        "    square_dist[it] = X**2 + Y**2\n",
        "        \n",
        "    #store importance weights\n",
        "    weights[it] = weight                                                        \n",
        "#end for"
      ],
      "execution_count": null,
      "outputs": [
        {
          "output_type": "stream",
          "text": [
            "iter: 0, trial 0\n",
            "iter: 0, trial 1\n",
            "iter: 1, trial 0\n",
            "iter: 1, trial 1\n",
            "iter: 1, trial 2\n",
            "iter: 1, trial 3\n",
            "iter: 2, trial 0\n",
            "iter: 2, trial 1\n",
            "iter: 2, trial 2\n",
            "iter: 2, trial 3\n",
            "iter: 2, trial 4\n",
            "iter: 2, trial 5\n",
            "iter: 2, trial 6\n",
            "iter: 2, trial 7\n",
            "iter: 2, trial 8\n",
            "iter: 2, trial 9\n",
            "iter: 2, trial 10\n",
            "iter: 2, trial 11\n",
            "iter: 2, trial 12\n",
            "iter: 2, trial 13\n",
            "iter: 2, trial 14\n",
            "iter: 2, trial 15\n",
            "iter: 2, trial 16\n",
            "iter: 2, trial 17\n",
            "iter: 2, trial 18\n",
            "iter: 2, trial 19\n",
            "iter: 2, trial 20\n",
            "iter: 2, trial 21\n",
            "iter: 2, trial 22\n",
            "iter: 2, trial 23\n",
            "iter: 2, trial 24\n",
            "iter: 2, trial 25\n",
            "iter: 2, trial 26\n",
            "iter: 2, trial 27\n",
            "iter: 2, trial 28\n",
            "iter: 2, trial 29\n",
            "iter: 2, trial 30\n",
            "iter: 2, trial 31\n",
            "iter: 2, trial 32\n",
            "iter: 2, trial 33\n",
            "iter: 2, trial 34\n",
            "iter: 2, trial 35\n",
            "iter: 2, trial 36\n",
            "iter: 2, trial 37\n",
            "iter: 2, trial 38\n",
            "iter: 2, trial 39\n",
            "iter: 2, trial 40\n",
            "iter: 2, trial 41\n",
            "iter: 2, trial 42\n",
            "iter: 2, trial 43\n",
            "iter: 2, trial 44\n",
            "iter: 2, trial 45\n",
            "iter: 2, trial 46\n",
            "iter: 2, trial 47\n",
            "iter: 2, trial 48\n",
            "iter: 2, trial 49\n",
            "iter: 2, trial 50\n",
            "iter: 2, trial 51\n",
            "iter: 2, trial 52\n",
            "iter: 2, trial 53\n",
            "iter: 2, trial 54\n",
            "iter: 2, trial 55\n",
            "iter: 2, trial 56\n",
            "iter: 2, trial 57\n",
            "iter: 2, trial 58\n",
            "iter: 2, trial 59\n",
            "iter: 3, trial 0\n",
            "iter: 3, trial 1\n",
            "iter: 3, trial 2\n",
            "iter: 3, trial 3\n",
            "iter: 4, trial 0\n",
            "iter: 4, trial 1\n",
            "iter: 4, trial 2\n",
            "iter: 4, trial 3\n",
            "iter: 4, trial 4\n",
            "iter: 4, trial 5\n",
            "iter: 4, trial 6\n",
            "iter: 4, trial 7\n",
            "iter: 4, trial 8\n",
            "iter: 4, trial 9\n",
            "iter: 4, trial 10\n",
            "iter: 4, trial 11\n",
            "iter: 4, trial 12\n",
            "iter: 4, trial 13\n",
            "iter: 4, trial 14\n",
            "iter: 4, trial 15\n",
            "iter: 4, trial 16\n",
            "iter: 4, trial 17\n",
            "iter: 4, trial 18\n",
            "iter: 4, trial 19\n",
            "iter: 4, trial 20\n",
            "iter: 4, trial 21\n",
            "iter: 4, trial 22\n",
            "iter: 4, trial 23\n",
            "iter: 4, trial 24\n",
            "iter: 4, trial 25\n",
            "iter: 4, trial 26\n",
            "iter: 4, trial 27\n",
            "iter: 4, trial 28\n",
            "iter: 4, trial 29\n",
            "iter: 4, trial 30\n",
            "iter: 4, trial 31\n",
            "iter: 4, trial 32\n",
            "iter: 5, trial 0\n",
            "iter: 5, trial 1\n",
            "iter: 5, trial 2\n",
            "iter: 5, trial 3\n",
            "iter: 5, trial 4\n",
            "iter: 5, trial 5\n",
            "iter: 5, trial 6\n",
            "iter: 5, trial 7\n",
            "iter: 5, trial 8\n",
            "iter: 5, trial 9\n",
            "iter: 5, trial 10\n",
            "iter: 5, trial 11\n",
            "iter: 5, trial 12\n",
            "iter: 5, trial 13\n",
            "iter: 5, trial 14\n",
            "iter: 5, trial 15\n",
            "iter: 5, trial 16\n",
            "iter: 5, trial 17\n",
            "iter: 5, trial 18\n",
            "iter: 5, trial 19\n",
            "iter: 5, trial 20\n",
            "iter: 5, trial 21\n",
            "iter: 5, trial 22\n",
            "iter: 5, trial 23\n",
            "iter: 5, trial 24\n",
            "iter: 5, trial 25\n",
            "iter: 5, trial 26\n",
            "iter: 5, trial 27\n",
            "iter: 5, trial 28\n",
            "iter: 5, trial 29\n",
            "iter: 5, trial 30\n",
            "iter: 5, trial 31\n",
            "iter: 5, trial 32\n",
            "iter: 6, trial 0\n",
            "iter: 6, trial 1\n",
            "iter: 6, trial 2\n",
            "iter: 6, trial 3\n",
            "iter: 6, trial 4\n",
            "iter: 6, trial 5\n",
            "iter: 6, trial 6\n",
            "iter: 6, trial 7\n",
            "iter: 6, trial 8\n",
            "iter: 6, trial 9\n",
            "iter: 6, trial 10\n",
            "iter: 6, trial 11\n",
            "iter: 6, trial 12\n",
            "iter: 6, trial 13\n",
            "iter: 6, trial 14\n",
            "iter: 6, trial 15\n",
            "iter: 6, trial 16\n",
            "iter: 7, trial 0\n",
            "iter: 7, trial 1\n",
            "iter: 7, trial 2\n",
            "iter: 7, trial 3\n",
            "iter: 7, trial 4\n",
            "iter: 7, trial 5\n",
            "iter: 7, trial 6\n",
            "iter: 7, trial 7\n",
            "iter: 7, trial 8\n",
            "iter: 7, trial 9\n",
            "iter: 7, trial 10\n",
            "iter: 7, trial 11\n",
            "iter: 7, trial 12\n",
            "iter: 7, trial 13\n",
            "iter: 7, trial 14\n",
            "iter: 7, trial 15\n",
            "iter: 7, trial 16\n",
            "iter: 7, trial 17\n",
            "iter: 7, trial 18\n",
            "iter: 7, trial 19\n",
            "iter: 7, trial 20\n",
            "iter: 7, trial 21\n",
            "iter: 7, trial 22\n",
            "iter: 7, trial 23\n",
            "iter: 7, trial 24\n",
            "iter: 7, trial 25\n",
            "iter: 7, trial 26\n",
            "iter: 7, trial 27\n",
            "iter: 7, trial 28\n",
            "iter: 7, trial 29\n",
            "iter: 7, trial 30\n",
            "iter: 7, trial 31\n",
            "iter: 7, trial 32\n",
            "iter: 7, trial 33\n",
            "iter: 7, trial 34\n",
            "iter: 7, trial 35\n",
            "iter: 7, trial 36\n",
            "iter: 7, trial 37\n",
            "iter: 7, trial 38\n",
            "iter: 7, trial 39\n",
            "iter: 7, trial 40\n",
            "iter: 7, trial 41\n",
            "iter: 7, trial 42\n",
            "iter: 7, trial 43\n",
            "iter: 7, trial 44\n",
            "iter: 7, trial 45\n",
            "iter: 7, trial 46\n",
            "iter: 7, trial 47\n",
            "iter: 7, trial 48\n",
            "iter: 7, trial 49\n",
            "iter: 7, trial 50\n",
            "iter: 7, trial 51\n",
            "iter: 7, trial 52\n",
            "iter: 7, trial 53\n",
            "iter: 7, trial 54\n",
            "iter: 7, trial 55\n",
            "iter: 7, trial 56\n",
            "iter: 8, trial 0\n",
            "iter: 8, trial 1\n",
            "iter: 8, trial 2\n",
            "iter: 8, trial 3\n",
            "iter: 8, trial 4\n",
            "iter: 8, trial 5\n",
            "iter: 8, trial 6\n",
            "iter: 8, trial 7\n",
            "iter: 8, trial 8\n",
            "iter: 8, trial 9\n",
            "iter: 8, trial 10\n",
            "iter: 9, trial 0\n",
            "iter: 9, trial 1\n",
            "iter: 9, trial 2\n",
            "iter: 9, trial 3\n",
            "iter: 9, trial 4\n",
            "iter: 9, trial 5\n",
            "iter: 9, trial 6\n",
            "iter: 10, trial 0\n",
            "iter: 10, trial 1\n",
            "iter: 10, trial 2\n",
            "iter: 10, trial 3\n",
            "iter: 10, trial 4\n",
            "iter: 10, trial 5\n",
            "iter: 10, trial 6\n",
            "iter: 10, trial 7\n",
            "iter: 10, trial 8\n",
            "iter: 11, trial 0\n",
            "iter: 11, trial 1\n",
            "iter: 11, trial 2\n",
            "iter: 11, trial 3\n",
            "iter: 11, trial 4\n",
            "iter: 11, trial 5\n",
            "iter: 11, trial 6\n",
            "iter: 11, trial 7\n",
            "iter: 11, trial 8\n",
            "iter: 11, trial 9\n",
            "iter: 11, trial 10\n",
            "iter: 11, trial 11\n",
            "iter: 11, trial 12\n",
            "iter: 11, trial 13\n",
            "iter: 11, trial 14\n",
            "iter: 11, trial 15\n",
            "iter: 11, trial 16\n",
            "iter: 11, trial 17\n",
            "iter: 11, trial 18\n",
            "iter: 11, trial 19\n",
            "iter: 11, trial 20\n",
            "iter: 11, trial 21\n",
            "iter: 11, trial 22\n",
            "iter: 11, trial 23\n",
            "iter: 11, trial 24\n",
            "iter: 11, trial 25\n",
            "iter: 11, trial 26\n",
            "iter: 11, trial 27\n",
            "iter: 11, trial 28\n",
            "iter: 11, trial 29\n",
            "iter: 11, trial 30\n",
            "iter: 11, trial 31\n",
            "iter: 11, trial 32\n",
            "iter: 11, trial 33\n",
            "iter: 11, trial 34\n",
            "iter: 11, trial 35\n",
            "iter: 11, trial 36\n",
            "iter: 11, trial 37\n",
            "iter: 11, trial 38\n",
            "iter: 11, trial 39\n",
            "iter: 11, trial 40\n",
            "iter: 11, trial 41\n",
            "iter: 11, trial 42\n",
            "iter: 11, trial 43\n",
            "iter: 11, trial 44\n",
            "iter: 11, trial 45\n",
            "iter: 12, trial 0\n",
            "iter: 12, trial 1\n",
            "iter: 12, trial 2\n",
            "iter: 12, trial 3\n",
            "iter: 12, trial 4\n",
            "iter: 12, trial 5\n",
            "iter: 12, trial 6\n",
            "iter: 12, trial 7\n",
            "iter: 12, trial 8\n",
            "iter: 12, trial 9\n",
            "iter: 12, trial 10\n",
            "iter: 12, trial 11\n",
            "iter: 13, trial 0\n",
            "iter: 13, trial 1\n",
            "iter: 13, trial 2\n",
            "iter: 13, trial 3\n",
            "iter: 13, trial 4\n",
            "iter: 13, trial 5\n",
            "iter: 13, trial 6\n",
            "iter: 13, trial 7\n",
            "iter: 13, trial 8\n",
            "iter: 14, trial 0\n",
            "iter: 14, trial 1\n",
            "iter: 14, trial 2\n",
            "iter: 14, trial 3\n",
            "iter: 14, trial 4\n",
            "iter: 14, trial 5\n",
            "iter: 14, trial 6\n",
            "iter: 14, trial 7\n",
            "iter: 14, trial 8\n",
            "iter: 14, trial 9\n",
            "iter: 14, trial 10\n",
            "iter: 14, trial 11\n",
            "iter: 14, trial 12\n",
            "iter: 14, trial 13\n",
            "iter: 14, trial 14\n",
            "iter: 14, trial 15\n",
            "iter: 14, trial 16\n",
            "iter: 14, trial 17\n",
            "iter: 15, trial 0\n",
            "iter: 15, trial 1\n",
            "iter: 15, trial 2\n",
            "iter: 15, trial 3\n",
            "iter: 15, trial 4\n",
            "iter: 15, trial 5\n",
            "iter: 15, trial 6\n",
            "iter: 15, trial 7\n",
            "iter: 15, trial 8\n",
            "iter: 15, trial 9\n",
            "iter: 15, trial 10\n",
            "iter: 15, trial 11\n",
            "iter: 15, trial 12\n",
            "iter: 15, trial 13\n",
            "iter: 15, trial 14\n",
            "iter: 15, trial 15\n",
            "iter: 15, trial 16\n",
            "iter: 15, trial 17\n",
            "iter: 15, trial 18\n",
            "iter: 15, trial 19\n",
            "iter: 15, trial 20\n"
          ],
          "name": "stdout"
        }
      ]
    },
    {
      "cell_type": "code",
      "metadata": {
        "id": "kbU976kv2YJh",
        "colab_type": "code",
        "colab": {
          "base_uri": "https://localhost:8080/",
          "height": 34
        },
        "outputId": "8b16efc2-72f1-46a8-fe01-cca3ba36edba"
      },
      "source": [
        "#compute mean square extension\n",
        "mean_square_dist = np.mean(weights * square_dist)/np.mean(weights)\n",
        "print(\"mean square dist: \", mean_square_dist)"
      ],
      "execution_count": null,
      "outputs": [
        {
          "output_type": "stream",
          "text": [
            "mean square dist:  1192.856518674526\n"
          ],
          "name": "stdout"
        }
      ]
    },
    {
      "cell_type": "code",
      "metadata": {
        "id": "6BbcbW6n211h",
        "colab_type": "code",
        "colab": {
          "base_uri": "https://localhost:8080/",
          "height": 295
        },
        "outputId": "107f3c85-08c3-45d6-ac5f-2278291e3187"
      },
      "source": [
        "#generate plots\n",
        "plt.figure()\n",
        "for i in range(num_step-1):\n",
        "    plt.plot(path[i,0], path[i,1], path[i+1,0], path[i+1,1], 'ob')            \n",
        "plt.title('random walk with no overlaps')\n",
        "plt.xlabel('X')\n",
        "plt.ylabel('Y')\n",
        "plt.show()"
      ],
      "execution_count": null,
      "outputs": [
        {
          "output_type": "display_data",
          "data": {
            "image/png": "[encoded data removed]",
            "text/plain": [
              "<Figure size 432x288 with 1 Axes>"
            ]
          },
          "metadata": {
            "tags": [],
            "needs_background": "light"
          }
        }
      ]
    },
    {
      "cell_type": "code",
      "metadata": {
        "id": "rZLIt0ZT288r",
        "colab_type": "code",
        "colab": {
          "base_uri": "https://localhost:8080/",
          "height": 295
        },
        "outputId": "74c896bd-fe6d-40fb-e2a0-ba3f08b964b9"
      },
      "source": [
        "plt.figure()\n",
        "sns.distplot(square_dist)\n",
        "plt.xlim(0,np.max(square_dist))\n",
        "plt.title('square distance of the random walk')\n",
        "plt.xlabel('square distance (X^2 + Y^2)')\n",
        "plt.show()"
      ],
      "execution_count": null,
      "outputs": [
        {
          "output_type": "display_data",
          "data": {
            "image/png": "[encoded data removed]",
            "text/plain": [
              "<Figure size 432x288 with 1 Axes>"
            ]
          },
          "metadata": {
            "tags": [],
            "needs_background": "light"
          }
        }
      ]
    },
    {
      "cell_type": "markdown",
      "metadata": {
        "id": "C-81bBEa6lYu",
        "colab_type": "text"
      },
      "source": [
        "#3.With large number of iterations -->>"
      ]
    },
    {
      "cell_type": "code",
      "metadata": {
        "id": "eCMOQboD3aqA",
        "colab_type": "code",
        "colab": {
          "base_uri": "https://localhost:8080/",
          "height": 1000
        },
        "outputId": "d94e1fde-fb32-44e2-db2c-52d4511cdff4"
      },
      "source": [
        "num_step = 64 #number of steps in a random walk\n",
        "num_iter = 50  #number of iterations for averaging results\n",
        "moves = np.array([[0, 1],[0, -1],[-1, 0],[1, 0]]) #2-D moves\n",
        "    \n",
        "#random walk stats\n",
        "square_dist = np.zeros(num_iter)\n",
        "weights = np.zeros(num_iter)\n",
        "        \n",
        "for it in range(num_iter):\n",
        "        \n",
        "    trial = 0\n",
        "    i = 1\n",
        "        \n",
        "    #iterate until we have a non-crossing random walk\n",
        "    while i != num_step-1:\n",
        "            \n",
        "        #init\n",
        "        X, Y = 0, 0\n",
        "        weight = 1\n",
        "        lattice = np.zeros((2*num_step+1, 2*num_step+1))\n",
        "        lattice[num_step+1,num_step+1] = 1\n",
        "        path = np.array([0, 0])\n",
        "        xx = num_step + 1 + X\n",
        "        yy = num_step + 1 + Y\n",
        "            \n",
        "        print(\"iter: %d, trial %d\" %(it, trial))\n",
        "            \n",
        "        for i in range(num_step):\n",
        "                \n",
        "            up    = lattice[xx,yy+1]\n",
        "            down  = lattice[xx,yy-1]\n",
        "            left  = lattice[xx-1,yy]\n",
        "            right = lattice[xx+1,yy]\n",
        "                \n",
        "            #compute available directions\n",
        "            neighbors = np.array([1, 1, 1, 1]) - np.array([up, down, left, right])\n",
        "                \n",
        "            #avoid self-loops\n",
        "            if (np.sum(neighbors) == 0):\n",
        "                i = 1\n",
        "                break\n",
        "            #end if\n",
        "                \n",
        "            #compute importance weights: d0 x d1 x ... x d_{n-1}\n",
        "            weight = weight * np.sum(neighbors)\n",
        "                \n",
        "            #sample a move direction\n",
        "            direction = np.where(np.random.rand() < np.cumsum(neighbors/float(sum(neighbors))))\n",
        "                \n",
        "            X = X + moves[direction[0][0],0]\n",
        "            Y = Y + moves[direction[0][0],1]\n",
        "                \n",
        "            #store sampled path\n",
        "            path_new = np.array([X,Y])\n",
        "            path = np.vstack((path,path_new))\n",
        "                \n",
        "            #update grid coordinates\n",
        "            xx = num_step + 1 + X\n",
        "            yy = num_step + 1 + Y                  \n",
        "            lattice[xx,yy] = 1                                                                                                                                            \n",
        "        #end for\n",
        "            \n",
        "        trial = trial + 1\n",
        "    #end while                                \n",
        "        \n",
        "    #compute square extension\n",
        "    square_dist[it] = X**2 + Y**2\n",
        "        \n",
        "    #store importance weights\n",
        "    weights[it] = weight                                                        \n",
        "#end for"
      ],
      "execution_count": null,
      "outputs": [
        {
          "output_type": "stream",
          "text": [
            "iter: 0, trial 0\n",
            "iter: 0, trial 1\n",
            "iter: 0, trial 2\n",
            "iter: 0, trial 3\n",
            "iter: 0, trial 4\n",
            "iter: 1, trial 0\n",
            "iter: 1, trial 1\n",
            "iter: 1, trial 2\n",
            "iter: 2, trial 0\n",
            "iter: 2, trial 1\n",
            "iter: 2, trial 2\n",
            "iter: 2, trial 3\n",
            "iter: 2, trial 4\n",
            "iter: 3, trial 0\n",
            "iter: 4, trial 0\n",
            "iter: 5, trial 0\n",
            "iter: 6, trial 0\n",
            "iter: 7, trial 0\n",
            "iter: 7, trial 1\n",
            "iter: 7, trial 2\n",
            "iter: 7, trial 3\n",
            "iter: 8, trial 0\n",
            "iter: 8, trial 1\n",
            "iter: 9, trial 0\n",
            "iter: 9, trial 1\n",
            "iter: 10, trial 0\n",
            "iter: 11, trial 0\n",
            "iter: 11, trial 1\n",
            "iter: 11, trial 2\n",
            "iter: 12, trial 0\n",
            "iter: 12, trial 1\n",
            "iter: 13, trial 0\n",
            "iter: 13, trial 1\n",
            "iter: 13, trial 2\n",
            "iter: 13, trial 3\n",
            "iter: 13, trial 4\n",
            "iter: 14, trial 0\n",
            "iter: 15, trial 0\n",
            "iter: 15, trial 1\n",
            "iter: 16, trial 0\n",
            "iter: 16, trial 1\n",
            "iter: 16, trial 2\n",
            "iter: 17, trial 0\n",
            "iter: 17, trial 1\n",
            "iter: 18, trial 0\n",
            "iter: 19, trial 0\n",
            "iter: 19, trial 1\n",
            "iter: 20, trial 0\n",
            "iter: 20, trial 1\n",
            "iter: 21, trial 0\n",
            "iter: 22, trial 0\n",
            "iter: 22, trial 1\n",
            "iter: 22, trial 2\n",
            "iter: 22, trial 3\n",
            "iter: 23, trial 0\n",
            "iter: 23, trial 1\n",
            "iter: 24, trial 0\n",
            "iter: 25, trial 0\n",
            "iter: 25, trial 1\n",
            "iter: 26, trial 0\n",
            "iter: 27, trial 0\n",
            "iter: 28, trial 0\n",
            "iter: 29, trial 0\n",
            "iter: 29, trial 1\n",
            "iter: 29, trial 2\n",
            "iter: 29, trial 3\n",
            "iter: 29, trial 4\n",
            "iter: 30, trial 0\n",
            "iter: 30, trial 1\n",
            "iter: 30, trial 2\n",
            "iter: 31, trial 0\n",
            "iter: 32, trial 0\n",
            "iter: 33, trial 0\n",
            "iter: 33, trial 1\n",
            "iter: 33, trial 2\n",
            "iter: 33, trial 3\n",
            "iter: 34, trial 0\n",
            "iter: 35, trial 0\n",
            "iter: 35, trial 1\n",
            "iter: 36, trial 0\n",
            "iter: 37, trial 0\n",
            "iter: 38, trial 0\n",
            "iter: 39, trial 0\n",
            "iter: 40, trial 0\n",
            "iter: 40, trial 1\n",
            "iter: 40, trial 2\n",
            "iter: 41, trial 0\n",
            "iter: 41, trial 1\n",
            "iter: 42, trial 0\n",
            "iter: 42, trial 1\n",
            "iter: 42, trial 2\n",
            "iter: 43, trial 0\n",
            "iter: 43, trial 1\n",
            "iter: 44, trial 0\n",
            "iter: 44, trial 1\n",
            "iter: 44, trial 2\n",
            "iter: 45, trial 0\n",
            "iter: 45, trial 1\n",
            "iter: 45, trial 2\n",
            "iter: 45, trial 3\n",
            "iter: 46, trial 0\n",
            "iter: 46, trial 1\n",
            "iter: 46, trial 2\n",
            "iter: 47, trial 0\n",
            "iter: 48, trial 0\n",
            "iter: 49, trial 0\n",
            "iter: 49, trial 1\n",
            "iter: 49, trial 2\n"
          ],
          "name": "stdout"
        }
      ]
    },
    {
      "cell_type": "code",
      "metadata": {
        "id": "unqd0LW_6P5K",
        "colab_type": "code",
        "colab": {
          "base_uri": "https://localhost:8080/",
          "height": 34
        },
        "outputId": "26486f25-4408-4988-cefc-9b84aca3321b"
      },
      "source": [
        "#compute mean square extension\n",
        "mean_square_dist = np.mean(weights * square_dist)/np.mean(weights)\n",
        "print(\"mean square dist: \", mean_square_dist)"
      ],
      "execution_count": null,
      "outputs": [
        {
          "output_type": "stream",
          "text": [
            "mean square dist:  308.25486325737234\n"
          ],
          "name": "stdout"
        }
      ]
    },
    {
      "cell_type": "code",
      "metadata": {
        "id": "1sQY1eXr6UEE",
        "colab_type": "code",
        "colab": {
          "base_uri": "https://localhost:8080/",
          "height": 295
        },
        "outputId": "db71e339-ead3-4f77-fc90-457297257851"
      },
      "source": [
        "#generate plots\n",
        "plt.figure()\n",
        "for i in range(num_step-1):\n",
        "    plt.plot(path[i,0], path[i,1], path[i+1,0], path[i+1,1], 'ob')            \n",
        "plt.title('random walk with no overlaps')\n",
        "plt.xlabel('X')\n",
        "plt.ylabel('Y')\n",
        "plt.show()"
      ],
      "execution_count": null,
      "outputs": [
        {
          "output_type": "display_data",
          "data": {
            "image/png": "[encoded data removed]",
            "text/plain": [
              "<Figure size 432x288 with 1 Axes>"
            ]
          },
          "metadata": {
            "tags": [],
            "needs_background": "light"
          }
        }
      ]
    },
    {
      "cell_type": "code",
      "metadata": {
        "id": "44ob5LQd6Ya2",
        "colab_type": "code",
        "colab": {
          "base_uri": "https://localhost:8080/",
          "height": 295
        },
        "outputId": "6b60cd94-c260-4dea-8ddf-fe3aecd3df65"
      },
      "source": [
        "plt.figure()\n",
        "sns.distplot(square_dist)\n",
        "plt.xlim(0,np.max(square_dist))\n",
        "plt.title('square distance of the random walk')\n",
        "plt.xlabel('square distance (X^2 + Y^2)')\n",
        "plt.show()"
      ],
      "execution_count": null,
      "outputs": [
        {
          "output_type": "display_data",
          "data": {
            "image/png": "[encoded data removed]",
            "text/plain": [
              "<Figure size 432x288 with 1 Axes>"
            ]
          },
          "metadata": {
            "tags": [],
            "needs_background": "light"
          }
        }
      ]
    },
    {
      "cell_type": "markdown",
      "metadata": {
        "id": "PxbjSIjj7ePS",
        "colab_type": "text"
      },
      "source": [
        "#4.Steps are smaller than iterations -->>"
      ]
    },
    {
      "cell_type": "code",
      "metadata": {
        "id": "dXA5se4s6cPt",
        "colab_type": "code",
        "colab": {
          "base_uri": "https://localhost:8080/",
          "height": 408
        },
        "outputId": "15a97e4f-2fd0-47d3-83ff-88defac4dc6e"
      },
      "source": [
        "num_step = 10 #number of steps in a random walk\n",
        "num_iter = 20  #number of iterations for averaging results\n",
        "moves = np.array([[0, 1],[0, -1],[-1, 0],[1, 0]]) #2-D moves\n",
        "    \n",
        "#random walk stats\n",
        "square_dist = np.zeros(num_iter)\n",
        "weights = np.zeros(num_iter)\n",
        "        \n",
        "for it in range(num_iter):\n",
        "        \n",
        "    trial = 0\n",
        "    i = 1\n",
        "        \n",
        "    #iterate until we have a non-crossing random walk\n",
        "    while i != num_step-1:\n",
        "            \n",
        "        #init\n",
        "        X, Y = 0, 0\n",
        "        weight = 1\n",
        "        lattice = np.zeros((2*num_step+1, 2*num_step+1))\n",
        "        lattice[num_step+1,num_step+1] = 1\n",
        "        path = np.array([0, 0])\n",
        "        xx = num_step + 1 + X\n",
        "        yy = num_step + 1 + Y\n",
        "            \n",
        "        print(\"iter: %d, trial %d\" %(it, trial))\n",
        "            \n",
        "        for i in range(num_step):\n",
        "                \n",
        "            up    = lattice[xx,yy+1]\n",
        "            down  = lattice[xx,yy-1]\n",
        "            left  = lattice[xx-1,yy]\n",
        "            right = lattice[xx+1,yy]\n",
        "                \n",
        "            #compute available directions\n",
        "            neighbors = np.array([1, 1, 1, 1]) - np.array([up, down, left, right])\n",
        "                \n",
        "            #avoid self-loops\n",
        "            if (np.sum(neighbors) == 0):\n",
        "                i = 1\n",
        "                break\n",
        "            #end if\n",
        "                \n",
        "            #compute importance weights: d0 x d1 x ... x d_{n-1}\n",
        "            weight = weight * np.sum(neighbors)\n",
        "                \n",
        "            #sample a move direction\n",
        "            direction = np.where(np.random.rand() < np.cumsum(neighbors/float(sum(neighbors))))\n",
        "                \n",
        "            X = X + moves[direction[0][0],0]\n",
        "            Y = Y + moves[direction[0][0],1]\n",
        "                \n",
        "            #store sampled path\n",
        "            path_new = np.array([X,Y])\n",
        "            path = np.vstack((path,path_new))\n",
        "                \n",
        "            #update grid coordinates\n",
        "            xx = num_step + 1 + X\n",
        "            yy = num_step + 1 + Y                  \n",
        "            lattice[xx,yy] = 1                                                                                                                                            \n",
        "        #end for\n",
        "            \n",
        "        trial = trial + 1\n",
        "    #end while                                \n",
        "        \n",
        "    #compute square extension\n",
        "    square_dist[it] = X**2 + Y**2\n",
        "        \n",
        "    #store importance weights\n",
        "    weights[it] = weight                                                        \n",
        "#end for"
      ],
      "execution_count": null,
      "outputs": [
        {
          "output_type": "stream",
          "text": [
            "iter: 0, trial 0\n",
            "iter: 0, trial 1\n",
            "iter: 1, trial 0\n",
            "iter: 2, trial 0\n",
            "iter: 3, trial 0\n",
            "iter: 4, trial 0\n",
            "iter: 5, trial 0\n",
            "iter: 6, trial 0\n",
            "iter: 6, trial 1\n",
            "iter: 7, trial 0\n",
            "iter: 8, trial 0\n",
            "iter: 9, trial 0\n",
            "iter: 10, trial 0\n",
            "iter: 11, trial 0\n",
            "iter: 11, trial 1\n",
            "iter: 12, trial 0\n",
            "iter: 13, trial 0\n",
            "iter: 14, trial 0\n",
            "iter: 15, trial 0\n",
            "iter: 16, trial 0\n",
            "iter: 17, trial 0\n",
            "iter: 18, trial 0\n",
            "iter: 19, trial 0\n"
          ],
          "name": "stdout"
        }
      ]
    },
    {
      "cell_type": "code",
      "metadata": {
        "id": "indz40my64g9",
        "colab_type": "code",
        "colab": {
          "base_uri": "https://localhost:8080/",
          "height": 34
        },
        "outputId": "75534ca6-3292-4280-adf1-8ba6903bb763"
      },
      "source": [
        "#compute mean square extension\n",
        "mean_square_dist = np.mean(weights * square_dist)/np.mean(weights)\n",
        "print(\"mean square dist: \", mean_square_dist)"
      ],
      "execution_count": null,
      "outputs": [
        {
          "output_type": "stream",
          "text": [
            "mean square dist:  25.95127610208817\n"
          ],
          "name": "stdout"
        }
      ]
    },
    {
      "cell_type": "code",
      "metadata": {
        "id": "mKkGB-k57Ttx",
        "colab_type": "code",
        "colab": {
          "base_uri": "https://localhost:8080/",
          "height": 295
        },
        "outputId": "ae1438c8-cdd1-4947-d760-f1c30f06844c"
      },
      "source": [
        "#generate plots\n",
        "plt.figure()\n",
        "for i in range(num_step-1):\n",
        "    plt.plot(path[i,0], path[i,1], path[i+1,0], path[i+1,1], 'ob')            \n",
        "plt.title('random walk with no overlaps')\n",
        "plt.xlabel('X')\n",
        "plt.ylabel('Y')\n",
        "plt.show()"
      ],
      "execution_count": null,
      "outputs": [
        {
          "output_type": "display_data",
          "data": {
            "image/png": "[encoded data removed]",
            "text/plain": [
              "<Figure size 432x288 with 1 Axes>"
            ]
          },
          "metadata": {
            "tags": [],
            "needs_background": "light"
          }
        }
      ]
    },
    {
      "cell_type": "code",
      "metadata": {
        "id": "qnRhth4N7YN7",
        "colab_type": "code",
        "colab": {
          "base_uri": "https://localhost:8080/",
          "height": 295
        },
        "outputId": "8aa3e40b-f020-4fc3-a9a2-204a2d97ae06"
      },
      "source": [
        "plt.figure()\n",
        "sns.distplot(square_dist)\n",
        "plt.xlim(0,np.max(square_dist))\n",
        "plt.title('square distance of the random walk')\n",
        "plt.xlabel('square distance (X^2 + Y^2)')\n",
        "plt.show()"
      ],
      "execution_count": null,
      "outputs": [
        {
          "output_type": "display_data",
          "data": {
            "image/png": "[encoded data removed]",
            "text/plain": [
              "<Figure size 432x288 with 1 Axes>"
            ]
          },
          "metadata": {
            "tags": [],
            "needs_background": "light"
          }
        }
      ]
    },
    {
      "cell_type": "markdown",
      "metadata": {
        "id": "9vkm9Xoz8Zlh",
        "colab_type": "text"
      },
      "source": [
        "Here,random forest monte carlo with simple application is implemented."
      ]
    }
  ]
}